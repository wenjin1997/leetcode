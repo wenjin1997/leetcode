{
 "metadata": {
  "language_info": {
   "codemirror_mode": {
    "name": "ipython",
    "version": 3
   },
   "file_extension": ".py",
   "mimetype": "text/x-python",
   "name": "python",
   "nbconvert_exporter": "python",
   "pygments_lexer": "ipython3",
   "version": "3.8.2-final"
  },
  "orig_nbformat": 2,
  "kernelspec": {
   "name": "python3",
   "display_name": "Python 3.8.2 64-bit",
   "metadata": {
    "interpreter": {
     "hash": "31f2aee4e71d21fbe5cf8b01ff0e069b9275f58929596ceb00d14d90e3e16cd6"
    }
   }
  }
 },
 "nbformat": 4,
 "nbformat_minor": 2,
 "cells": [
  {
   "source": [
    "# [1512.好数对的数目](https://leetcode-cn.com/problems/number-of-good-pairs)\n",
    "给你一个整数数组 nums.  \n",
    "如果一组数字 (i,j) 满足 nums\\[i\\] == nums\\[j\\] 且 i < j ，就可以认为这是一组 好数对.  \n",
    "返回好数对的数目。\n",
    "### 示例 1：\n",
    "输入：nums = \\[1,2,3,1,1,3\\]  \n",
    "输出：4  \n",
    "解释：有 4 组好数对，分别是 (0,3), (0,4), (3,4), (2,5) ，下标从 0 开始  \n",
    "\n",
    "### 示例 2：\n",
    "输入：nums = \\[1,1,1,1\\]  \n",
    "输出：6  \n",
    "解释：数组中的每组数字都是好数对  \n",
    "\n",
    "### 示例 3：\n",
    "输入：nums = \\[1,2,3\\]  \n",
    "输出：0  \n",
    " \n",
    "### 提示：\n",
    "1 <= nums.length <= 100  \n",
    "1 <= nums\\[i\\] <= 100  \n"
   ],
   "cell_type": "markdown",
   "metadata": {}
  },
  {
   "source": [
    "## 思路\n",
    "第一步：先固定一个数nums\\[i\\]，这个数是从数组的第一个元素遍历到最后一个，选定后就固定好。  \n",
    "第二步：选第二个数nums\\[j\\]，这个数从nums[i]的后一个数开始遍历到数组的最后一个数，选好后固定。  \n",
    "第三步：判断nums\\[i\\]和nums\\[j\\]是否相等，相等则好数对加一。\n",
    "第四步：当都遍历结束后，输出好数对的个数。"
   ],
   "cell_type": "markdown",
   "metadata": {}
  },
  {
   "source": [
    "## 代码\n",
    "```python\n",
    "class Solution:\n",
    "    def numIdenticalPairs(self, nums: List[int]) -> int:\n",
    "        n = len(nums)\n",
    "        flag = 0\n",
    "        for i in range(n):\n",
    "            j = i + 1\n",
    "            while j < n:\n",
    "                if (nums[j] == nums[i]):\n",
    "                    flag = flag + 1\n",
    "                j = j + 1\n",
    "        return flag\n",
    "```"
   ],
   "cell_type": "markdown",
   "metadata": {}
  }
 ]
}
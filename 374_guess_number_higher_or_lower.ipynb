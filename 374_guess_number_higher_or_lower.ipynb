{
 "metadata": {
  "language_info": {
   "codemirror_mode": {
    "name": "ipython",
    "version": 3
   },
   "file_extension": ".py",
   "mimetype": "text/x-python",
   "name": "python",
   "nbconvert_exporter": "python",
   "pygments_lexer": "ipython3",
   "version": 3
  },
  "orig_nbformat": 2
 },
 "nbformat": 4,
 "nbformat_minor": 2,
 "cells": [
  {
   "source": [
    "# [374.猜数字大小](https://leetcode-cn.com/problems/guess-number-higher-or-lower)\n",
    "猜数字游戏的规则如下：  \n",
    "\n",
    "每轮游戏，我都会从 1 到 n 随机选择一个数字。 请你猜选出的是哪个数字。  \n",
    "如果你猜错了，我会告诉你，你猜测的数字比我选出的数字是大了还是小了。  \n",
    "你可以通过调用一个预先定义好的接口 int guess(int num) 来获取猜测结果，返回值一共有 3 种可能的情况（-1，1 或 0）：  \n",
    "\n",
    "-1：我选出的数字比你猜的数字小 pick < num  \n",
    "1：我选出的数字比你猜的数字大 pick > num  \n",
    "0：我选出的数字和你猜的数字一样。恭喜！你猜对了！pick == num\n",
    "返回我选出的数字。  \n"
   ],
   "cell_type": "markdown",
   "metadata": {}
  },
  {
   "source": [
    "示例 1：\n",
    "```\n",
    "输入：n = 10, pick = 6  \n",
    "输出：6\n",
    "```\n",
    "示例 2：\n",
    "```\n",
    "输入：n = 1, pick = 1  \n",
    "输出：1\n",
    "```\n",
    "示例 3：\n",
    "```\n",
    "输入：n = 2, pick = 1  \n",
    "输出：1\n",
    "```\n",
    "示例 4：\n",
    "```\n",
    "输入：n = 2, pick = 2  \n",
    "输出：2\n",
    "```\n",
    "\n",
    "提示：\n",
    "1 <= n <= 231 - 1  \n",
    "1 <= pick <= n\n",
    "\n"
   ],
   "cell_type": "markdown",
   "metadata": {}
  },
  {
   "source": [
    "#### 题解思路\n",
    "类似于二分查找，设置左边点和右边点，每次猜测在中间值。  \n",
    "特别注意：如果右边的值比左边值大1，并且前一次没有猜测正确，则一定可以判断猜测数为右边值。"
   ],
   "cell_type": "markdown",
   "metadata": {}
  },
  {
   "cell_type": "code",
   "execution_count": null,
   "metadata": {},
   "outputs": [],
   "source": [
    "# The guess API is already defined for you.\n",
    "# @param num, your guess\n",
    "# @return -1 if my number is lower, 1 if my number is higher, otherwise return 0\n",
    "# def guess(num: int) -> int:\n",
    "\n",
    "class Solution:\n",
    "    def guessNumber(self, n: int) -> int:\n",
    "        left = 1\n",
    "        right = n\n",
    "        num = left + int((right - left)/2)\n",
    "        flag = guess(num)\n",
    "        while (flag != 0):\n",
    "            if((right - left) == 1):\n",
    "                return right\n",
    "            if(flag == -1):\n",
    "                right = num\n",
    "            if(flag == 1):\n",
    "                left = num\n",
    "            num = left + int((right - left)/2)\n",
    "            flag = guess(num)\n",
    "        return num"
   ]
  }
 ]
}
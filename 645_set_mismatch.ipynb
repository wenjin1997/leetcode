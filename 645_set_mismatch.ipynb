{
 "metadata": {
  "language_info": {
   "codemirror_mode": {
    "name": "ipython",
    "version": 3
   },
   "file_extension": ".py",
   "mimetype": "text/x-python",
   "name": "python",
   "nbconvert_exporter": "python",
   "pygments_lexer": "ipython3",
   "version": "3.8.2"
  },
  "orig_nbformat": 2,
  "kernelspec": {
   "name": "python3",
   "display_name": "Python 3.8.2 64-bit",
   "metadata": {
    "interpreter": {
     "hash": "31f2aee4e71d21fbe5cf8b01ff0e069b9275f58929596ceb00d14d90e3e16cd6"
    }
   }
  }
 },
 "nbformat": 4,
 "nbformat_minor": 2,
 "cells": [
  {
   "source": [
    "### Python中生成1到n的队列\n"
   ],
   "cell_type": "markdown",
   "metadata": {}
  },
  {
   "cell_type": "code",
   "execution_count": 4,
   "metadata": {},
   "outputs": [
    {
     "output_type": "stream",
     "name": "stdout",
     "text": [
      "range(1, 5)\n"
     ]
    },
    {
     "output_type": "execute_result",
     "data": {
      "text/plain": [
       "2"
      ]
     },
     "metadata": {},
     "execution_count": 4
    }
   ],
   "source": [
    "n = 5\n",
    "nlist = range(1, n)\n",
    "print(nlist)"
   ]
  },
  {
   "source": [
    "### Python中删除元素"
   ],
   "cell_type": "markdown",
   "metadata": {}
  },
  {
   "cell_type": "code",
   "execution_count": 10,
   "metadata": {},
   "outputs": [
    {
     "output_type": "stream",
     "name": "stdout",
     "text": [
      "[1, 2, 3]\n"
     ]
    }
   ],
   "source": [
    "li = list(range(1, 5))\n",
    "del li[3]\n",
    "print(li)\n",
    "# Output [1, 2, 3]"
   ]
  },
  {
   "cell_type": "code",
   "execution_count": null,
   "metadata": {},
   "outputs": [],
   "source": [
    "class Solution:\n",
    "    def findErrorNums(self, nums: List[int]) -> List[int]:\n",
    "        n = len(nums)\n",
    "        correct = list(range(1, n + 1))\n",
    "        i = 0\n",
    "        while i < n:\n",
    "            j = 0\n",
    "            while j < n:\n",
    "                if correct[j] == nums[i]:\n",
    "                    del correct[j]\n",
    "                    del nums[i]\n",
    "                    i = i - 1\n",
    "                    j = j - 1\n",
    "                    n = n - 1\n",
    "                    break\n",
    "                j = j + 1\n",
    "            i = i + 1\n",
    "        return(nums[0], correct[0])"
   ]
  },
  {
   "source": [
    "上述解答可以通过部分测试用例，当数组过大时，会超出时间限制。"
   ],
   "cell_type": "markdown",
   "metadata": {}
  },
  {
   "source": [
    "#### 另一种解答"
   ],
   "cell_type": "markdown",
   "metadata": {}
  },
  {
   "cell_type": "code",
   "execution_count": null,
   "metadata": {},
   "outputs": [],
   "source": [
    "class Solution:\n",
    "    def findErrorNums(self, nums: List[int]) -> List[int]:\n",
    "        n1 = sum(nums) - sum(set(nums)) #找出重复的数字,set()函数是去掉重复数字后剩下的数组\n",
    "        n2 = sum(range(len(nums)+1)) - sum(set(nums)) #找出缺失的数字\n",
    "        return [n1, n2]      "
   ]
  }
 ]
}
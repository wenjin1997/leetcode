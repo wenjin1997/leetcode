{
 "metadata": {
  "language_info": {
   "codemirror_mode": {
    "name": "ipython",
    "version": 3
   },
   "file_extension": ".py",
   "mimetype": "text/x-python",
   "name": "python",
   "nbconvert_exporter": "python",
   "pygments_lexer": "ipython3",
   "version": "3.8.2-final"
  },
  "orig_nbformat": 2,
  "kernelspec": {
   "name": "python3",
   "display_name": "Python 3.8.2 64-bit",
   "metadata": {
    "interpreter": {
     "hash": "31f2aee4e71d21fbe5cf8b01ff0e069b9275f58929596ceb00d14d90e3e16cd6"
    }
   }
  }
 },
 "nbformat": 4,
 "nbformat_minor": 2,
 "cells": [
  {
   "source": [
    "# 1154.一年中的第几天 \n",
    "给你一个按 YYYY-MM-DD 格式表示日期的字符串 date，请你计算并返回该日期是当年的第几天。\n",
    "\n",
    "通常情况下，我们认为 1 月 1 日是每年的第 1 天，1 月 2 日是每年的第 2 天，依此类推。每个月的天数与现行公元纪年法（格里高利历）一致。\n"
   ],
   "cell_type": "markdown",
   "metadata": {}
  },
  {
   "source": [
    "#### 示例 1：\n",
    "```\n",
    "输入：date = \"2019-01-09\"\n",
    "输出：9\n",
    "```\n",
    "\n",
    "#### 示例 2：\n",
    "```\n",
    "输入：date = \"2019-02-10\"\n",
    "输出：41\n",
    "```\n",
    "\n",
    "#### 示例 3：\n",
    "```\n",
    "输入：date = \"2003-03-01\"  \n",
    "输出：60\n",
    "```\n",
    "\n",
    "#### 示例 4：\n",
    "```\n",
    "输入：date = \"2004-03-01\"  \n",
    "输出：61\n",
    "```\n",
    "\n",
    "#### 提示：\n",
    "date.length == 10  \n",
    "date\\[4\\] == date\\[7\\] == '-'，其他的 date\\[i\\] 都是数字。  \n",
    "date 表示的范围从 1900 年 1 月 1 日至 2019 年 12 月 31 日。"
   ],
   "cell_type": "markdown",
   "metadata": {}
  },
  {
   "source": [
    "#### 判断闰年\n",
    "判断任意年份是否为闰年，需要满足以下条件中的任意一个：  \n",
    "① 该年份能被 4 整除同时不能被 100 整除；  \n",
    "② 该年份能被400整除"
   ],
   "cell_type": "markdown",
   "metadata": {}
  },
  {
   "source": [
    "### 题解思路\n",
    "先设置一个一年中每月含有天数的列表dayofmonth，首先判断是否为闰年，如果是闰年，那么2月应该有29天，更改dayofmonth中2月的天数，最后是计算总天数。"
   ],
   "cell_type": "markdown",
   "metadata": {}
  },
  {
   "cell_type": "code",
   "execution_count": 16,
   "metadata": {},
   "outputs": [
    {
     "output_type": "stream",
     "name": "stdout",
     "text": [
      "2016 2 29\n0\n31\n60\n"
     ]
    }
   ],
   "source": [
    "class Solution:\n",
    "    def dayOfYear(self, date: str) -> int:\n",
    "        dayofmonth = [31, 28, 31, 30, 31, 30, 31, 31, 30, 31, 30, 31]\n",
    "        year = int(date[0:4])\n",
    "        month = int(date[5:7])\n",
    "        day = int(date[8:])\n",
    "        print(year, month, day)\n",
    "        \n",
    "        dayofyear = 0\n",
    "        if (year%4 == 0 and year%100 != 0) or (year%400 ==0):\n",
    "            dayofmonth[1] = 29\n",
    "            print(dayofyear)\n",
    "        for i in range(month - 1):\n",
    "            dayofyear = dayofyear + dayofmonth[i]\n",
    "            print(dayofyear)\n",
    "        dayofyear = dayofyear + day\n",
    "        return dayofyear\n",
    "\n",
    "solution = Solution()\n",
    "day = solution.dayOfYear(\"2016-02-29\")\n",
    "print(day)"
   ]
  },
  {
   "cell_type": "code",
   "execution_count": 3,
   "metadata": {},
   "outputs": [
    {
     "output_type": "execute_result",
     "data": {
      "text/plain": [
       "0"
      ]
     },
     "metadata": {},
     "execution_count": 3
    }
   ],
   "source": [
    "int(1/2)"
   ]
  },
  {
   "cell_type": "code",
   "execution_count": null,
   "metadata": {},
   "outputs": [],
   "source": []
  }
 ]
}